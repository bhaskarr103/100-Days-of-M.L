{
 "cells": [
  {
   "cell_type": "markdown",
   "metadata": {},
   "source": [
    "# Hypothesis Testing on Used Cars Dataset."
   ]
  },
  {
   "cell_type": "code",
   "execution_count": 11,
   "metadata": {},
   "outputs": [],
   "source": [
    "# Import required Libraries.\n",
    "\n",
    "import seaborn as sns\n",
    "import pandas as pd\n",
    "import numpy as np\n",
    "import matplotlib.pyplot as plt"
   ]
  },
  {
   "cell_type": "code",
   "execution_count": 12,
   "metadata": {},
   "outputs": [],
   "source": [
    "# import csv file as dataframe\n",
    "\n",
    "df = pd.read_csv('CARS_1.csv')"
   ]
  },
  {
   "cell_type": "code",
   "execution_count": 13,
   "metadata": {},
   "outputs": [
    {
     "data": {
      "text/plain": [
       "(203, 16)"
      ]
     },
     "execution_count": 13,
     "metadata": {},
     "output_type": "execute_result"
    }
   ],
   "source": [
    "df.shape"
   ]
  },
  {
   "cell_type": "code",
   "execution_count": 14,
   "metadata": {},
   "outputs": [
    {
     "data": {
      "text/html": [
       "<div>\n",
       "<style scoped>\n",
       "    .dataframe tbody tr th:only-of-type {\n",
       "        vertical-align: middle;\n",
       "    }\n",
       "\n",
       "    .dataframe tbody tr th {\n",
       "        vertical-align: top;\n",
       "    }\n",
       "\n",
       "    .dataframe thead th {\n",
       "        text-align: right;\n",
       "    }\n",
       "</style>\n",
       "<table border=\"1\" class=\"dataframe\">\n",
       "  <thead>\n",
       "    <tr style=\"text-align: right;\">\n",
       "      <th></th>\n",
       "      <th>car_name</th>\n",
       "      <th>reviews_count</th>\n",
       "      <th>fuel_type</th>\n",
       "      <th>engine_displacement</th>\n",
       "      <th>no_cylinder</th>\n",
       "      <th>seating_capacity</th>\n",
       "      <th>transmission_type</th>\n",
       "      <th>fuel_tank_capacity</th>\n",
       "      <th>body_type</th>\n",
       "      <th>rating</th>\n",
       "      <th>starting_price</th>\n",
       "      <th>ending_price</th>\n",
       "      <th>max_torque_nm</th>\n",
       "      <th>max_torque_rpm</th>\n",
       "      <th>max_power_bhp</th>\n",
       "      <th>max_power_rp</th>\n",
       "    </tr>\n",
       "  </thead>\n",
       "  <tbody>\n",
       "    <tr>\n",
       "      <th>0</th>\n",
       "      <td>Maruti Alto K10</td>\n",
       "      <td>51</td>\n",
       "      <td>Petrol</td>\n",
       "      <td>998</td>\n",
       "      <td>3</td>\n",
       "      <td>5.0</td>\n",
       "      <td>Automatic</td>\n",
       "      <td>27.0</td>\n",
       "      <td>Hatchback</td>\n",
       "      <td>4.5</td>\n",
       "      <td>399000</td>\n",
       "      <td>583000</td>\n",
       "      <td>89.0</td>\n",
       "      <td>3500</td>\n",
       "      <td>65.71</td>\n",
       "      <td>5500</td>\n",
       "    </tr>\n",
       "    <tr>\n",
       "      <th>1</th>\n",
       "      <td>Maruti Brezza</td>\n",
       "      <td>86</td>\n",
       "      <td>Petrol</td>\n",
       "      <td>1462</td>\n",
       "      <td>4</td>\n",
       "      <td>5.0</td>\n",
       "      <td>Automatic</td>\n",
       "      <td>48.0</td>\n",
       "      <td>SUV</td>\n",
       "      <td>4.5</td>\n",
       "      <td>799000</td>\n",
       "      <td>1396000</td>\n",
       "      <td>136.8</td>\n",
       "      <td>4400</td>\n",
       "      <td>101.65</td>\n",
       "      <td>6000</td>\n",
       "    </tr>\n",
       "    <tr>\n",
       "      <th>2</th>\n",
       "      <td>Mahindra Thar</td>\n",
       "      <td>242</td>\n",
       "      <td>Diesel</td>\n",
       "      <td>2184</td>\n",
       "      <td>4</td>\n",
       "      <td>4.0</td>\n",
       "      <td>Automatic</td>\n",
       "      <td>57.0</td>\n",
       "      <td>SUV</td>\n",
       "      <td>4.5</td>\n",
       "      <td>1353000</td>\n",
       "      <td>1603000</td>\n",
       "      <td>300.0</td>\n",
       "      <td>2800</td>\n",
       "      <td>130.00</td>\n",
       "      <td>3750</td>\n",
       "    </tr>\n",
       "    <tr>\n",
       "      <th>3</th>\n",
       "      <td>Mahindra XUV700</td>\n",
       "      <td>313</td>\n",
       "      <td>Diesel</td>\n",
       "      <td>2198</td>\n",
       "      <td>4</td>\n",
       "      <td>7.0</td>\n",
       "      <td>Automatic</td>\n",
       "      <td>60.0</td>\n",
       "      <td>SUV</td>\n",
       "      <td>4.5</td>\n",
       "      <td>1318000</td>\n",
       "      <td>2458000</td>\n",
       "      <td>450.0</td>\n",
       "      <td>2800</td>\n",
       "      <td>182.38</td>\n",
       "      <td>3500</td>\n",
       "    </tr>\n",
       "    <tr>\n",
       "      <th>4</th>\n",
       "      <td>Mahindra Scorpio-N</td>\n",
       "      <td>107</td>\n",
       "      <td>Diesel</td>\n",
       "      <td>2198</td>\n",
       "      <td>4</td>\n",
       "      <td>7.0</td>\n",
       "      <td>Automatic</td>\n",
       "      <td>57.0</td>\n",
       "      <td>SUV</td>\n",
       "      <td>4.5</td>\n",
       "      <td>1199000</td>\n",
       "      <td>2390000</td>\n",
       "      <td>400.0</td>\n",
       "      <td>2750</td>\n",
       "      <td>172.45</td>\n",
       "      <td>3500</td>\n",
       "    </tr>\n",
       "  </tbody>\n",
       "</table>\n",
       "</div>"
      ],
      "text/plain": [
       "             car_name  reviews_count fuel_type  engine_displacement  \\\n",
       "0     Maruti Alto K10             51    Petrol                  998   \n",
       "1       Maruti Brezza             86    Petrol                 1462   \n",
       "2       Mahindra Thar            242    Diesel                 2184   \n",
       "3     Mahindra XUV700            313    Diesel                 2198   \n",
       "4  Mahindra Scorpio-N            107    Diesel                 2198   \n",
       "\n",
       "   no_cylinder  seating_capacity transmission_type  fuel_tank_capacity  \\\n",
       "0            3               5.0         Automatic                27.0   \n",
       "1            4               5.0         Automatic                48.0   \n",
       "2            4               4.0         Automatic                57.0   \n",
       "3            4               7.0         Automatic                60.0   \n",
       "4            4               7.0         Automatic                57.0   \n",
       "\n",
       "   body_type  rating  starting_price  ending_price  max_torque_nm  \\\n",
       "0  Hatchback     4.5          399000        583000           89.0   \n",
       "1        SUV     4.5          799000       1396000          136.8   \n",
       "2        SUV     4.5         1353000       1603000          300.0   \n",
       "3        SUV     4.5         1318000       2458000          450.0   \n",
       "4        SUV     4.5         1199000       2390000          400.0   \n",
       "\n",
       "   max_torque_rpm  max_power_bhp  max_power_rp  \n",
       "0            3500          65.71          5500  \n",
       "1            4400         101.65          6000  \n",
       "2            2800         130.00          3750  \n",
       "3            2800         182.38          3500  \n",
       "4            2750         172.45          3500  "
      ]
     },
     "execution_count": 14,
     "metadata": {},
     "output_type": "execute_result"
    }
   ],
   "source": [
    "df.head()"
   ]
  },
  {
   "cell_type": "code",
   "execution_count": 25,
   "metadata": {},
   "outputs": [
    {
     "data": {
      "text/plain": [
       "(202, 16)"
      ]
     },
     "execution_count": 25,
     "metadata": {},
     "output_type": "execute_result"
    }
   ],
   "source": [
    "# Removing the columns with null value.\n",
    "\n",
    "cars = df.dropna()\n",
    "cars.shape"
   ]
  },
  {
   "cell_type": "code",
   "execution_count": 41,
   "metadata": {},
   "outputs": [
    {
     "data": {
      "text/html": [
       "<div>\n",
       "<style scoped>\n",
       "    .dataframe tbody tr th:only-of-type {\n",
       "        vertical-align: middle;\n",
       "    }\n",
       "\n",
       "    .dataframe tbody tr th {\n",
       "        vertical-align: top;\n",
       "    }\n",
       "\n",
       "    .dataframe thead th {\n",
       "        text-align: right;\n",
       "    }\n",
       "</style>\n",
       "<table border=\"1\" class=\"dataframe\">\n",
       "  <thead>\n",
       "    <tr style=\"text-align: right;\">\n",
       "      <th></th>\n",
       "      <th>car_name</th>\n",
       "      <th>reviews_count</th>\n",
       "      <th>fuel_type</th>\n",
       "      <th>engine_displacement</th>\n",
       "      <th>no_cylinder</th>\n",
       "      <th>seating_capacity</th>\n",
       "      <th>transmission_type</th>\n",
       "      <th>fuel_tank_capacity</th>\n",
       "      <th>body_type</th>\n",
       "      <th>rating</th>\n",
       "      <th>starting_price</th>\n",
       "      <th>ending_price</th>\n",
       "      <th>max_torque_nm</th>\n",
       "      <th>max_torque_rpm</th>\n",
       "      <th>max_power_bhp</th>\n",
       "      <th>max_power_rp</th>\n",
       "    </tr>\n",
       "  </thead>\n",
       "  <tbody>\n",
       "    <tr>\n",
       "      <th>0</th>\n",
       "      <td>Maruti Alto K10</td>\n",
       "      <td>51</td>\n",
       "      <td>Petrol</td>\n",
       "      <td>998</td>\n",
       "      <td>3</td>\n",
       "      <td>5.0</td>\n",
       "      <td>Automatic</td>\n",
       "      <td>27.0</td>\n",
       "      <td>Hatchback</td>\n",
       "      <td>4.5</td>\n",
       "      <td>399000</td>\n",
       "      <td>583000</td>\n",
       "      <td>89.0</td>\n",
       "      <td>3500</td>\n",
       "      <td>65.71</td>\n",
       "      <td>5500</td>\n",
       "    </tr>\n",
       "    <tr>\n",
       "      <th>1</th>\n",
       "      <td>Maruti Brezza</td>\n",
       "      <td>86</td>\n",
       "      <td>Petrol</td>\n",
       "      <td>1462</td>\n",
       "      <td>4</td>\n",
       "      <td>5.0</td>\n",
       "      <td>Automatic</td>\n",
       "      <td>48.0</td>\n",
       "      <td>SUV</td>\n",
       "      <td>4.5</td>\n",
       "      <td>799000</td>\n",
       "      <td>1396000</td>\n",
       "      <td>136.8</td>\n",
       "      <td>4400</td>\n",
       "      <td>101.65</td>\n",
       "      <td>6000</td>\n",
       "    </tr>\n",
       "    <tr>\n",
       "      <th>2</th>\n",
       "      <td>Mahindra Thar</td>\n",
       "      <td>242</td>\n",
       "      <td>Diesel</td>\n",
       "      <td>2184</td>\n",
       "      <td>4</td>\n",
       "      <td>4.0</td>\n",
       "      <td>Automatic</td>\n",
       "      <td>57.0</td>\n",
       "      <td>SUV</td>\n",
       "      <td>4.5</td>\n",
       "      <td>1353000</td>\n",
       "      <td>1603000</td>\n",
       "      <td>300.0</td>\n",
       "      <td>2800</td>\n",
       "      <td>130.00</td>\n",
       "      <td>3750</td>\n",
       "    </tr>\n",
       "    <tr>\n",
       "      <th>3</th>\n",
       "      <td>Mahindra XUV700</td>\n",
       "      <td>313</td>\n",
       "      <td>Diesel</td>\n",
       "      <td>2198</td>\n",
       "      <td>4</td>\n",
       "      <td>7.0</td>\n",
       "      <td>Automatic</td>\n",
       "      <td>60.0</td>\n",
       "      <td>SUV</td>\n",
       "      <td>4.5</td>\n",
       "      <td>1318000</td>\n",
       "      <td>2458000</td>\n",
       "      <td>450.0</td>\n",
       "      <td>2800</td>\n",
       "      <td>182.38</td>\n",
       "      <td>3500</td>\n",
       "    </tr>\n",
       "    <tr>\n",
       "      <th>4</th>\n",
       "      <td>Mahindra Scorpio-N</td>\n",
       "      <td>107</td>\n",
       "      <td>Diesel</td>\n",
       "      <td>2198</td>\n",
       "      <td>4</td>\n",
       "      <td>7.0</td>\n",
       "      <td>Automatic</td>\n",
       "      <td>57.0</td>\n",
       "      <td>SUV</td>\n",
       "      <td>4.5</td>\n",
       "      <td>1199000</td>\n",
       "      <td>2390000</td>\n",
       "      <td>400.0</td>\n",
       "      <td>2750</td>\n",
       "      <td>172.45</td>\n",
       "      <td>3500</td>\n",
       "    </tr>\n",
       "  </tbody>\n",
       "</table>\n",
       "</div>"
      ],
      "text/plain": [
       "             car_name  reviews_count fuel_type  engine_displacement  \\\n",
       "0     Maruti Alto K10             51    Petrol                  998   \n",
       "1       Maruti Brezza             86    Petrol                 1462   \n",
       "2       Mahindra Thar            242    Diesel                 2184   \n",
       "3     Mahindra XUV700            313    Diesel                 2198   \n",
       "4  Mahindra Scorpio-N            107    Diesel                 2198   \n",
       "\n",
       "   no_cylinder  seating_capacity transmission_type  fuel_tank_capacity  \\\n",
       "0            3               5.0         Automatic                27.0   \n",
       "1            4               5.0         Automatic                48.0   \n",
       "2            4               4.0         Automatic                57.0   \n",
       "3            4               7.0         Automatic                60.0   \n",
       "4            4               7.0         Automatic                57.0   \n",
       "\n",
       "   body_type  rating  starting_price  ending_price  max_torque_nm  \\\n",
       "0  Hatchback     4.5          399000        583000           89.0   \n",
       "1        SUV     4.5          799000       1396000          136.8   \n",
       "2        SUV     4.5         1353000       1603000          300.0   \n",
       "3        SUV     4.5         1318000       2458000          450.0   \n",
       "4        SUV     4.5         1199000       2390000          400.0   \n",
       "\n",
       "   max_torque_rpm  max_power_bhp  max_power_rp  \n",
       "0            3500          65.71          5500  \n",
       "1            4400         101.65          6000  \n",
       "2            2800         130.00          3750  \n",
       "3            2800         182.38          3500  \n",
       "4            2750         172.45          3500  "
      ]
     },
     "execution_count": 41,
     "metadata": {},
     "output_type": "execute_result"
    }
   ],
   "source": [
    "cars.head()"
   ]
  },
  {
   "cell_type": "markdown",
   "metadata": {},
   "source": [
    "**Null Hypothesis (H0) :**\n",
    "\n",
    "There is no significant difference in the starting_price between seating_type of car is 5 wheeler or 7 wheeler.\n",
    "\n",
    "**Alternate Hypothesis (Ha) :**\n",
    "\n",
    "There is a significant difference in the mean starting_price between seating_type of car is 5 wheeler or 7 wheeler."
   ]
  },
  {
   "cell_type": "code",
   "execution_count": 36,
   "metadata": {},
   "outputs": [],
   "source": [
    "# Select two classes for comparison.\n",
    "\n",
    "class_1 = cars[cars['seating_capacity'] == 5.0]['starting_price']\n",
    "\n",
    "class_2 = cars[cars['seating_capacity'] == 7.0]['starting_price']"
   ]
  },
  {
   "cell_type": "code",
   "execution_count": 35,
   "metadata": {},
   "outputs": [],
   "source": [
    "# Define significance level\n",
    "alpha = 0.05"
   ]
  },
  {
   "cell_type": "markdown",
   "metadata": {},
   "source": [
    "# Performing two sample t_test."
   ]
  },
  {
   "cell_type": "code",
   "execution_count": 38,
   "metadata": {},
   "outputs": [],
   "source": [
    "# Perform two_sample t_test.\n",
    "\n",
    "from scipy.stats import ttest_ind\n",
    "\n",
    "# Perform two-sample t-test\n",
    "\n",
    "t_stat, p_value = ttest_ind(class_1, class_2)\n",
    "\n",
    "# Divide the p-value by 2 for a one-tailed test\n",
    "one_tailed_p_value = p_value / 2"
   ]
  },
  {
   "cell_type": "code",
   "execution_count": 39,
   "metadata": {},
   "outputs": [
    {
     "name": "stdout",
     "output_type": "stream",
     "text": [
      "T-statistic: 0.938359078684405\n",
      "One-tailed P-value: 0.1747506178332709\n"
     ]
    }
   ],
   "source": [
    "# Print the results\n",
    "\n",
    "print(f'T-statistic: {t_stat}')\n",
    "\n",
    "print(f'One-tailed P-value: {one_tailed_p_value}')"
   ]
  },
  {
   "cell_type": "code",
   "execution_count": 40,
   "metadata": {},
   "outputs": [
    {
     "name": "stdout",
     "output_type": "stream",
     "text": [
      "Fail to reject the null hypothesis. There is no significant difference between the two groups.\n"
     ]
    }
   ],
   "source": [
    "# Check the significance\n",
    "if one_tailed_p_value < alpha:\n",
    "    print(\"Reject the null hypothesis. There is a significant difference between the two groups.\")\n",
    "else:\n",
    "    print(\"Fail to reject the null hypothesis. There is no significant difference between the two groups.\")"
   ]
  }
 ],
 "metadata": {
  "kernelspec": {
   "display_name": "Python 3",
   "language": "python",
   "name": "python3"
  },
  "language_info": {
   "codemirror_mode": {
    "name": "ipython",
    "version": 3
   },
   "file_extension": ".py",
   "mimetype": "text/x-python",
   "name": "python",
   "nbconvert_exporter": "python",
   "pygments_lexer": "ipython3",
   "version": "3.11.0"
  }
 },
 "nbformat": 4,
 "nbformat_minor": 2
}
