{
 "cells": [
  {
   "cell_type": "code",
   "execution_count": 2,
   "metadata": {},
   "outputs": [],
   "source": [
    "from sklearn.datasets import make_regression\n",
    "import pandas as pd\n",
    "import numpy as np\n",
    "\n",
    "import plotly.express as px\n",
    "import plotly.graph_objects as go\n",
    "\n",
    "from sklearn.metrics import mean_absolute_error,mean_squared_error,r2_score"
   ]
  },
  {
   "cell_type": "markdown",
   "metadata": {},
   "source": [
    "The **make_regression** function is used to generate a synthetic regression dataset with the following parameters:\n",
    "\n",
    "n_samples: The number of samples in the dataset (100).\n",
    "n_features: The total number of features (independent variables) in the dataset (2).\n",
    "n_informative: The number of informative features, i.e., the number of features used to build the linear model used to generate the output (2).\n",
    "n_targets: The number of regression targets (output variables) in the dataset (1).\n",
    "noise: The standard deviation of the Gaussian noise applied to the output (50).\n",
    "\n",
    "**n_informative**\n",
    "In example make_regression(n_samples=100, n_features=2, n_informative=2, n_targets=1, noise=50), both features are informative (n_informative=2), meaning both features play a role in determining the target variable.\n",
    "\n",
    "**noise**\n",
    "A higher noise value results in a more scattered distribution of target values around the linear relationship defined by the informative features.\n",
    "Lower values of noise make the relationship between features and target more apparent, while higher values introduce more randomness."
   ]
  },
  {
   "cell_type": "code",
   "execution_count": 6,
   "metadata": {},
   "outputs": [],
   "source": [
    "x,y = make_regression(n_samples=100, n_features=2, n_informative=2, n_targets=1, noise=50)"
   ]
  },
  {
   "cell_type": "code",
   "execution_count": 14,
   "metadata": {},
   "outputs": [],
   "source": [
    "df = pd.DataFrame({'feature1':x[:,0],'feature2':x[:,1],'target':y})"
   ]
  },
  {
   "cell_type": "code",
   "execution_count": 15,
   "metadata": {},
   "outputs": [
    {
     "data": {
      "text/plain": [
       "(100, 3)"
      ]
     },
     "execution_count": 15,
     "metadata": {},
     "output_type": "execute_result"
    }
   ],
   "source": [
    "df.shape"
   ]
  },
  {
   "cell_type": "code",
   "execution_count": 16,
   "metadata": {},
   "outputs": [
    {
     "data": {
      "text/html": [
       "<div>\n",
       "<style scoped>\n",
       "    .dataframe tbody tr th:only-of-type {\n",
       "        vertical-align: middle;\n",
       "    }\n",
       "\n",
       "    .dataframe tbody tr th {\n",
       "        vertical-align: top;\n",
       "    }\n",
       "\n",
       "    .dataframe thead th {\n",
       "        text-align: right;\n",
       "    }\n",
       "</style>\n",
       "<table border=\"1\" class=\"dataframe\">\n",
       "  <thead>\n",
       "    <tr style=\"text-align: right;\">\n",
       "      <th></th>\n",
       "      <th>feature1</th>\n",
       "      <th>feature2</th>\n",
       "      <th>target</th>\n",
       "    </tr>\n",
       "  </thead>\n",
       "  <tbody>\n",
       "    <tr>\n",
       "      <th>0</th>\n",
       "      <td>0.750203</td>\n",
       "      <td>0.640324</td>\n",
       "      <td>10.262066</td>\n",
       "    </tr>\n",
       "    <tr>\n",
       "      <th>1</th>\n",
       "      <td>0.156785</td>\n",
       "      <td>1.035743</td>\n",
       "      <td>84.359782</td>\n",
       "    </tr>\n",
       "    <tr>\n",
       "      <th>2</th>\n",
       "      <td>-1.220283</td>\n",
       "      <td>1.582544</td>\n",
       "      <td>35.932238</td>\n",
       "    </tr>\n",
       "    <tr>\n",
       "      <th>3</th>\n",
       "      <td>-1.023591</td>\n",
       "      <td>0.284579</td>\n",
       "      <td>-69.863916</td>\n",
       "    </tr>\n",
       "    <tr>\n",
       "      <th>4</th>\n",
       "      <td>0.083570</td>\n",
       "      <td>0.505882</td>\n",
       "      <td>8.186747</td>\n",
       "    </tr>\n",
       "  </tbody>\n",
       "</table>\n",
       "</div>"
      ],
      "text/plain": [
       "   feature1  feature2     target\n",
       "0  0.750203  0.640324  10.262066\n",
       "1  0.156785  1.035743  84.359782\n",
       "2 -1.220283  1.582544  35.932238\n",
       "3 -1.023591  0.284579 -69.863916\n",
       "4  0.083570  0.505882   8.186747"
      ]
     },
     "execution_count": 16,
     "metadata": {},
     "output_type": "execute_result"
    }
   ],
   "source": [
    "df.head()"
   ]
  },
  {
   "cell_type": "code",
   "execution_count": 18,
   "metadata": {},
   "outputs": [
    {
     "data": {
      "application/vnd.plotly.v1+json": {
       "config": {
        "plotlyServerURL": "https://plot.ly"
       },
       "data": [
        {
         "hovertemplate": "feature1=%{x}<br>feature2=%{y}<br>target=%{z}<extra></extra>",
         "legendgroup": "",
         "marker": {
          "color": "#636efa",
          "symbol": "circle"
         },
         "mode": "markers",
         "name": "",
         "scene": "scene",
         "showlegend": false,
         "type": "scatter3d",
         "x": [
          0.7502034443430521,
          0.15678459091750419,
          -1.2202831375055363,
          -1.0235914564023947,
          0.08356990923206695,
          0.10039494786996023,
          1.180577171799028,
          -1.0000692370827537,
          -0.22320536587069745,
          -0.11405945835291308,
          2.526787563719746,
          -0.9270033540133237,
          -1.2863394309649416,
          -1.4559607125147236,
          0.28744083809971543,
          1.3657174375719425,
          -1.9951080045046932,
          1.275941276114241,
          0.18724519834948178,
          -0.4335777927958997,
          0.8854573734053478,
          0.6699013999445581,
          0.7730235482109115,
          -0.25969871088149743,
          0.3939046761435166,
          -0.8003456599623402,
          -1.3198315462047927,
          1.3830147941585902,
          0.945387444429263,
          0.9087789328158424,
          0.14086104111692122,
          1.6164167638909805,
          -0.7379540743793963,
          0.1659139061914323,
          -0.19222745622225704,
          2.0369664155529446,
          -1.1868973369451172,
          1.3145912213238642,
          -0.7574979405345122,
          1.4708672529205382,
          -0.6675087356341433,
          -0.8545953313676529,
          -0.8439740513254196,
          -0.9378960930119402,
          -0.6282154257491032,
          0.9561341025576812,
          -1.075180255695744,
          0.4999238453679971,
          -0.3242885378750971,
          0.5772697736913445,
          -0.9834203981034644,
          -0.10303023703291887,
          -0.3690291280247239,
          0.6986297672514892,
          -0.08734174176032676,
          1.8672477864178618,
          0.2190795278931569,
          -0.11688948174663029,
          -0.5031577071478368,
          0.151006880823864,
          0.027985981401240118,
          -1.989078943861905,
          -0.061688484757965865,
          -0.132771060003741,
          -0.6473837988932213,
          -0.5970518011851892,
          -0.31391359976993183,
          -0.21114826866427203,
          -0.4890910507936994,
          1.4567515245522176,
          -0.1630458384213754,
          -0.803319132859519,
          0.1891630577279447,
          -0.34651467551319126,
          -0.5232383735507818,
          0.4171996294890002,
          -0.12761042384351726,
          1.5646601797518178,
          -0.36188945403160916,
          0.7793265165177964,
          -0.7334357489785414,
          0.3658406760762947,
          -0.3519905145593582,
          0.1365986824503793,
          0.3002147985482056,
          -0.391647470322842,
          -0.6260232108759675,
          0.0401359130112715,
          -0.348251064696259,
          -0.045618679100808045,
          0.31688048037927713,
          0.07235448087021548,
          0.2500919417686784,
          0.17597502584934172,
          0.9036378560682008,
          -0.44033832992538713,
          0.004587338596858378,
          1.3342769373418664,
          0.030337403518001863,
          0.4227910390762992
         ],
         "y": [
          0.6403235358244244,
          1.0357433792137638,
          1.5825439131552208,
          0.28457851884632906,
          0.5058824548974019,
          -0.5867660064330115,
          0.7027780347858212,
          -0.02212521218286553,
          1.073075846991094,
          -0.12050012943637828,
          1.0397199208028227,
          0.4969581204204606,
          -0.2977125015093508,
          0.6798642916034342,
          -1.2396760552636468,
          1.4133507635607787,
          2.5245943307278997,
          0.6137354594119228,
          0.7092960197422895,
          0.10088248436496587,
          0.829665758910714,
          -0.8481094111066402,
          -0.9249109763591068,
          -0.47469287555909545,
          -0.5263869600336647,
          1.5013345151985382,
          -1.248983019096809,
          -0.017111655505265038,
          -0.4654045285904345,
          1.411109476487187,
          0.9080235784837147,
          1.6661142785842395,
          -1.3856376201290808,
          -1.1474589667745831,
          0.3731605002410878,
          0.29715820381716124,
          0.1959538454690296,
          0.8130937462022085,
          -0.2295504922733867,
          -0.9869265472643437,
          1.8721067997364589,
          1.6384351752178843,
          0.32528772029900777,
          -0.8748551883336767,
          0.6286674831354655,
          -1.3011070505553026,
          0.4633954527306688,
          -0.1368347112128269,
          -1.3159412137200341,
          -1.8050377264057258,
          -3.0037524427074915,
          -0.40651442831170487,
          0.8187958249867092,
          -0.07799610907171639,
          -0.44381981158023787,
          0.7675887537991758,
          -1.6841004697988486,
          -0.6717598585111504,
          2.394413329172009,
          -1.0817227954139241,
          0.6455528764502496,
          0.02478930013421437,
          -0.03923604562110799,
          0.8982707408746081,
          0.9809051976596578,
          -0.2214655399321566,
          -1.722476610393041,
          2.436640204135361,
          -1.6559937566566296,
          0.4606633303515356,
          1.0250721183421259,
          0.27409703636929367,
          0.7140123816441195,
          -1.1348838329247894,
          -0.9793943521566449,
          -1.0179989133447835,
          -0.4061467009719845,
          0.7024633634822103,
          0.8053577828213534,
          -0.6482579150974532,
          0.3920865457154569,
          -1.7361414598553109,
          0.16917098398321787,
          1.7484829821612866,
          -0.8931041550461503,
          0.12677338726861279,
          1.0749147116325855,
          -1.0625881108956603,
          0.1874835433792478,
          0.9348320965533166,
          -0.6586509769128155,
          -1.317127853044487,
          -0.5875956482635278,
          0.5315984592951837,
          -0.8474220360894362,
          1.6942914278607817,
          -1.0314034328282076,
          1.5578520167054057,
          -0.23714089040100267,
          1.5069999819849715
         ],
         "z": [
          10.262065765219617,
          84.35978249268827,
          35.932238350687776,
          -69.86391649613101,
          8.186747191724479,
          -41.95244795600221,
          69.34949259083487,
          -63.66312698990656,
          89.32072733384422,
          -31.732527867837682,
          340.43478658076407,
          30.73427584675087,
          -152.9856371071754,
          -16.97462928450962,
          -29.323721355423714,
          200.14462212253142,
          122.52737260628005,
          136.60519362736352,
          173.4961518300952,
          10.299115869478289,
          91.02856620579121,
          -95.91682063959874,
          -70.51170763326789,
          -34.194586196175266,
          -52.83982632380687,
          68.835679646451,
          -137.14954785032518,
          92.74766055050493,
          -35.002964462000755,
          298.43370392233976,
          122.52362734007785,
          260.7833582644736,
          -60.15018642066191,
          -32.51448175888752,
          102.7966194421554,
          130.5830066505743,
          -28.167262913847733,
          150.35562757188103,
          -78.07067907342454,
          63.72091174947295,
          96.10123726917416,
          54.75399447914539,
          -46.986954279801765,
          -165.16621021549588,
          10.896041563589755,
          -78.74487913029216,
          -26.513298044543856,
          -44.64090387850224,
          -96.66138295371181,
          -103.64636911295992,
          -362.92609059534794,
          -13.545277510971196,
          17.369370756295403,
          14.006908101908888,
          -12.515149047316761,
          109.27983959002421,
          -147.99244303940125,
          3.1922760165067317,
          82.22852538427331,
          -70.3105717128768,
          36.005851485641124,
          -80.97340056247765,
          -22.36573501680227,
          19.297677732703583,
          16.54950788027158,
          -30.57362456319342,
          -109.27157023627994,
          116.26789004873731,
          -246.00593269481828,
          169.86349956176824,
          38.610352585738916,
          34.77158294202379,
          108.46837109568739,
          -97.83664426659543,
          -112.15220882841487,
          18.318369691280374,
          6.543105609381023,
          152.31059645447147,
          -24.568823044509216,
          113.63958093971902,
          17.03166988823332,
          -154.53840021431847,
          -54.33160607907967,
          176.54327875910406,
          -66.94051741891671,
          -61.31384858151418,
          3.832829074138772,
          -67.85446359687761,
          0.8675707910594408,
          73.92962053566477,
          -81.9959372602129,
          -44.47547597489325,
          17.14417509191034,
          35.547036338471415,
          -83.2482163284965,
          176.17144451540986,
          -93.06180109942744,
          222.9361708977775,
          80.45093131168835,
          125.94589899819518
         ]
        }
       ],
       "layout": {
        "legend": {
         "tracegroupgap": 0
        },
        "margin": {
         "t": 60
        },
        "scene": {
         "domain": {
          "x": [
           0,
           1
          ],
          "y": [
           0,
           1
          ]
         },
         "xaxis": {
          "title": {
           "text": "feature1"
          }
         },
         "yaxis": {
          "title": {
           "text": "feature2"
          }
         },
         "zaxis": {
          "title": {
           "text": "target"
          }
         }
        },
        "template": {
         "data": {
          "bar": [
           {
            "error_x": {
             "color": "#2a3f5f"
            },
            "error_y": {
             "color": "#2a3f5f"
            },
            "marker": {
             "line": {
              "color": "#E5ECF6",
              "width": 0.5
             },
             "pattern": {
              "fillmode": "overlay",
              "size": 10,
              "solidity": 0.2
             }
            },
            "type": "bar"
           }
          ],
          "barpolar": [
           {
            "marker": {
             "line": {
              "color": "#E5ECF6",
              "width": 0.5
             },
             "pattern": {
              "fillmode": "overlay",
              "size": 10,
              "solidity": 0.2
             }
            },
            "type": "barpolar"
           }
          ],
          "carpet": [
           {
            "aaxis": {
             "endlinecolor": "#2a3f5f",
             "gridcolor": "white",
             "linecolor": "white",
             "minorgridcolor": "white",
             "startlinecolor": "#2a3f5f"
            },
            "baxis": {
             "endlinecolor": "#2a3f5f",
             "gridcolor": "white",
             "linecolor": "white",
             "minorgridcolor": "white",
             "startlinecolor": "#2a3f5f"
            },
            "type": "carpet"
           }
          ],
          "choropleth": [
           {
            "colorbar": {
             "outlinewidth": 0,
             "ticks": ""
            },
            "type": "choropleth"
           }
          ],
          "contour": [
           {
            "colorbar": {
             "outlinewidth": 0,
             "ticks": ""
            },
            "colorscale": [
             [
              0,
              "#0d0887"
             ],
             [
              0.1111111111111111,
              "#46039f"
             ],
             [
              0.2222222222222222,
              "#7201a8"
             ],
             [
              0.3333333333333333,
              "#9c179e"
             ],
             [
              0.4444444444444444,
              "#bd3786"
             ],
             [
              0.5555555555555556,
              "#d8576b"
             ],
             [
              0.6666666666666666,
              "#ed7953"
             ],
             [
              0.7777777777777778,
              "#fb9f3a"
             ],
             [
              0.8888888888888888,
              "#fdca26"
             ],
             [
              1,
              "#f0f921"
             ]
            ],
            "type": "contour"
           }
          ],
          "contourcarpet": [
           {
            "colorbar": {
             "outlinewidth": 0,
             "ticks": ""
            },
            "type": "contourcarpet"
           }
          ],
          "heatmap": [
           {
            "colorbar": {
             "outlinewidth": 0,
             "ticks": ""
            },
            "colorscale": [
             [
              0,
              "#0d0887"
             ],
             [
              0.1111111111111111,
              "#46039f"
             ],
             [
              0.2222222222222222,
              "#7201a8"
             ],
             [
              0.3333333333333333,
              "#9c179e"
             ],
             [
              0.4444444444444444,
              "#bd3786"
             ],
             [
              0.5555555555555556,
              "#d8576b"
             ],
             [
              0.6666666666666666,
              "#ed7953"
             ],
             [
              0.7777777777777778,
              "#fb9f3a"
             ],
             [
              0.8888888888888888,
              "#fdca26"
             ],
             [
              1,
              "#f0f921"
             ]
            ],
            "type": "heatmap"
           }
          ],
          "heatmapgl": [
           {
            "colorbar": {
             "outlinewidth": 0,
             "ticks": ""
            },
            "colorscale": [
             [
              0,
              "#0d0887"
             ],
             [
              0.1111111111111111,
              "#46039f"
             ],
             [
              0.2222222222222222,
              "#7201a8"
             ],
             [
              0.3333333333333333,
              "#9c179e"
             ],
             [
              0.4444444444444444,
              "#bd3786"
             ],
             [
              0.5555555555555556,
              "#d8576b"
             ],
             [
              0.6666666666666666,
              "#ed7953"
             ],
             [
              0.7777777777777778,
              "#fb9f3a"
             ],
             [
              0.8888888888888888,
              "#fdca26"
             ],
             [
              1,
              "#f0f921"
             ]
            ],
            "type": "heatmapgl"
           }
          ],
          "histogram": [
           {
            "marker": {
             "pattern": {
              "fillmode": "overlay",
              "size": 10,
              "solidity": 0.2
             }
            },
            "type": "histogram"
           }
          ],
          "histogram2d": [
           {
            "colorbar": {
             "outlinewidth": 0,
             "ticks": ""
            },
            "colorscale": [
             [
              0,
              "#0d0887"
             ],
             [
              0.1111111111111111,
              "#46039f"
             ],
             [
              0.2222222222222222,
              "#7201a8"
             ],
             [
              0.3333333333333333,
              "#9c179e"
             ],
             [
              0.4444444444444444,
              "#bd3786"
             ],
             [
              0.5555555555555556,
              "#d8576b"
             ],
             [
              0.6666666666666666,
              "#ed7953"
             ],
             [
              0.7777777777777778,
              "#fb9f3a"
             ],
             [
              0.8888888888888888,
              "#fdca26"
             ],
             [
              1,
              "#f0f921"
             ]
            ],
            "type": "histogram2d"
           }
          ],
          "histogram2dcontour": [
           {
            "colorbar": {
             "outlinewidth": 0,
             "ticks": ""
            },
            "colorscale": [
             [
              0,
              "#0d0887"
             ],
             [
              0.1111111111111111,
              "#46039f"
             ],
             [
              0.2222222222222222,
              "#7201a8"
             ],
             [
              0.3333333333333333,
              "#9c179e"
             ],
             [
              0.4444444444444444,
              "#bd3786"
             ],
             [
              0.5555555555555556,
              "#d8576b"
             ],
             [
              0.6666666666666666,
              "#ed7953"
             ],
             [
              0.7777777777777778,
              "#fb9f3a"
             ],
             [
              0.8888888888888888,
              "#fdca26"
             ],
             [
              1,
              "#f0f921"
             ]
            ],
            "type": "histogram2dcontour"
           }
          ],
          "mesh3d": [
           {
            "colorbar": {
             "outlinewidth": 0,
             "ticks": ""
            },
            "type": "mesh3d"
           }
          ],
          "parcoords": [
           {
            "line": {
             "colorbar": {
              "outlinewidth": 0,
              "ticks": ""
             }
            },
            "type": "parcoords"
           }
          ],
          "pie": [
           {
            "automargin": true,
            "type": "pie"
           }
          ],
          "scatter": [
           {
            "fillpattern": {
             "fillmode": "overlay",
             "size": 10,
             "solidity": 0.2
            },
            "type": "scatter"
           }
          ],
          "scatter3d": [
           {
            "line": {
             "colorbar": {
              "outlinewidth": 0,
              "ticks": ""
             }
            },
            "marker": {
             "colorbar": {
              "outlinewidth": 0,
              "ticks": ""
             }
            },
            "type": "scatter3d"
           }
          ],
          "scattercarpet": [
           {
            "marker": {
             "colorbar": {
              "outlinewidth": 0,
              "ticks": ""
             }
            },
            "type": "scattercarpet"
           }
          ],
          "scattergeo": [
           {
            "marker": {
             "colorbar": {
              "outlinewidth": 0,
              "ticks": ""
             }
            },
            "type": "scattergeo"
           }
          ],
          "scattergl": [
           {
            "marker": {
             "colorbar": {
              "outlinewidth": 0,
              "ticks": ""
             }
            },
            "type": "scattergl"
           }
          ],
          "scattermapbox": [
           {
            "marker": {
             "colorbar": {
              "outlinewidth": 0,
              "ticks": ""
             }
            },
            "type": "scattermapbox"
           }
          ],
          "scatterpolar": [
           {
            "marker": {
             "colorbar": {
              "outlinewidth": 0,
              "ticks": ""
             }
            },
            "type": "scatterpolar"
           }
          ],
          "scatterpolargl": [
           {
            "marker": {
             "colorbar": {
              "outlinewidth": 0,
              "ticks": ""
             }
            },
            "type": "scatterpolargl"
           }
          ],
          "scatterternary": [
           {
            "marker": {
             "colorbar": {
              "outlinewidth": 0,
              "ticks": ""
             }
            },
            "type": "scatterternary"
           }
          ],
          "surface": [
           {
            "colorbar": {
             "outlinewidth": 0,
             "ticks": ""
            },
            "colorscale": [
             [
              0,
              "#0d0887"
             ],
             [
              0.1111111111111111,
              "#46039f"
             ],
             [
              0.2222222222222222,
              "#7201a8"
             ],
             [
              0.3333333333333333,
              "#9c179e"
             ],
             [
              0.4444444444444444,
              "#bd3786"
             ],
             [
              0.5555555555555556,
              "#d8576b"
             ],
             [
              0.6666666666666666,
              "#ed7953"
             ],
             [
              0.7777777777777778,
              "#fb9f3a"
             ],
             [
              0.8888888888888888,
              "#fdca26"
             ],
             [
              1,
              "#f0f921"
             ]
            ],
            "type": "surface"
           }
          ],
          "table": [
           {
            "cells": {
             "fill": {
              "color": "#EBF0F8"
             },
             "line": {
              "color": "white"
             }
            },
            "header": {
             "fill": {
              "color": "#C8D4E3"
             },
             "line": {
              "color": "white"
             }
            },
            "type": "table"
           }
          ]
         },
         "layout": {
          "annotationdefaults": {
           "arrowcolor": "#2a3f5f",
           "arrowhead": 0,
           "arrowwidth": 1
          },
          "autotypenumbers": "strict",
          "coloraxis": {
           "colorbar": {
            "outlinewidth": 0,
            "ticks": ""
           }
          },
          "colorscale": {
           "diverging": [
            [
             0,
             "#8e0152"
            ],
            [
             0.1,
             "#c51b7d"
            ],
            [
             0.2,
             "#de77ae"
            ],
            [
             0.3,
             "#f1b6da"
            ],
            [
             0.4,
             "#fde0ef"
            ],
            [
             0.5,
             "#f7f7f7"
            ],
            [
             0.6,
             "#e6f5d0"
            ],
            [
             0.7,
             "#b8e186"
            ],
            [
             0.8,
             "#7fbc41"
            ],
            [
             0.9,
             "#4d9221"
            ],
            [
             1,
             "#276419"
            ]
           ],
           "sequential": [
            [
             0,
             "#0d0887"
            ],
            [
             0.1111111111111111,
             "#46039f"
            ],
            [
             0.2222222222222222,
             "#7201a8"
            ],
            [
             0.3333333333333333,
             "#9c179e"
            ],
            [
             0.4444444444444444,
             "#bd3786"
            ],
            [
             0.5555555555555556,
             "#d8576b"
            ],
            [
             0.6666666666666666,
             "#ed7953"
            ],
            [
             0.7777777777777778,
             "#fb9f3a"
            ],
            [
             0.8888888888888888,
             "#fdca26"
            ],
            [
             1,
             "#f0f921"
            ]
           ],
           "sequentialminus": [
            [
             0,
             "#0d0887"
            ],
            [
             0.1111111111111111,
             "#46039f"
            ],
            [
             0.2222222222222222,
             "#7201a8"
            ],
            [
             0.3333333333333333,
             "#9c179e"
            ],
            [
             0.4444444444444444,
             "#bd3786"
            ],
            [
             0.5555555555555556,
             "#d8576b"
            ],
            [
             0.6666666666666666,
             "#ed7953"
            ],
            [
             0.7777777777777778,
             "#fb9f3a"
            ],
            [
             0.8888888888888888,
             "#fdca26"
            ],
            [
             1,
             "#f0f921"
            ]
           ]
          },
          "colorway": [
           "#636efa",
           "#EF553B",
           "#00cc96",
           "#ab63fa",
           "#FFA15A",
           "#19d3f3",
           "#FF6692",
           "#B6E880",
           "#FF97FF",
           "#FECB52"
          ],
          "font": {
           "color": "#2a3f5f"
          },
          "geo": {
           "bgcolor": "white",
           "lakecolor": "white",
           "landcolor": "#E5ECF6",
           "showlakes": true,
           "showland": true,
           "subunitcolor": "white"
          },
          "hoverlabel": {
           "align": "left"
          },
          "hovermode": "closest",
          "mapbox": {
           "style": "light"
          },
          "paper_bgcolor": "white",
          "plot_bgcolor": "#E5ECF6",
          "polar": {
           "angularaxis": {
            "gridcolor": "white",
            "linecolor": "white",
            "ticks": ""
           },
           "bgcolor": "#E5ECF6",
           "radialaxis": {
            "gridcolor": "white",
            "linecolor": "white",
            "ticks": ""
           }
          },
          "scene": {
           "xaxis": {
            "backgroundcolor": "#E5ECF6",
            "gridcolor": "white",
            "gridwidth": 2,
            "linecolor": "white",
            "showbackground": true,
            "ticks": "",
            "zerolinecolor": "white"
           },
           "yaxis": {
            "backgroundcolor": "#E5ECF6",
            "gridcolor": "white",
            "gridwidth": 2,
            "linecolor": "white",
            "showbackground": true,
            "ticks": "",
            "zerolinecolor": "white"
           },
           "zaxis": {
            "backgroundcolor": "#E5ECF6",
            "gridcolor": "white",
            "gridwidth": 2,
            "linecolor": "white",
            "showbackground": true,
            "ticks": "",
            "zerolinecolor": "white"
           }
          },
          "shapedefaults": {
           "line": {
            "color": "#2a3f5f"
           }
          },
          "ternary": {
           "aaxis": {
            "gridcolor": "white",
            "linecolor": "white",
            "ticks": ""
           },
           "baxis": {
            "gridcolor": "white",
            "linecolor": "white",
            "ticks": ""
           },
           "bgcolor": "#E5ECF6",
           "caxis": {
            "gridcolor": "white",
            "linecolor": "white",
            "ticks": ""
           }
          },
          "title": {
           "x": 0.05
          },
          "xaxis": {
           "automargin": true,
           "gridcolor": "white",
           "linecolor": "white",
           "ticks": "",
           "title": {
            "standoff": 15
           },
           "zerolinecolor": "white",
           "zerolinewidth": 2
          },
          "yaxis": {
           "automargin": true,
           "gridcolor": "white",
           "linecolor": "white",
           "ticks": "",
           "title": {
            "standoff": 15
           },
           "zerolinecolor": "white",
           "zerolinewidth": 2
          }
         }
        }
       }
      }
     },
     "metadata": {},
     "output_type": "display_data"
    }
   ],
   "source": [
    "fig = px.scatter_3d(df, x='feature1', y='feature2', z='target')\n",
    "\n",
    "fig.show()"
   ]
  },
  {
   "cell_type": "markdown",
   "metadata": {},
   "source": [
    "**Trainning Model**"
   ]
  },
  {
   "cell_type": "code",
   "execution_count": 19,
   "metadata": {},
   "outputs": [],
   "source": [
    "from sklearn.model_selection import train_test_split\n",
    "x_train,x_test,y_train,y_test = train_test_split(x,y,test_size=0.2,random_state=2)"
   ]
  },
  {
   "cell_type": "code",
   "execution_count": 20,
   "metadata": {},
   "outputs": [],
   "source": [
    "from sklearn.linear_model import LinearRegression"
   ]
  },
  {
   "cell_type": "code",
   "execution_count": 21,
   "metadata": {},
   "outputs": [],
   "source": [
    "model = LinearRegression()"
   ]
  },
  {
   "cell_type": "code",
   "execution_count": 22,
   "metadata": {},
   "outputs": [
    {
     "data": {
      "text/html": [
       "<style>#sk-container-id-1 {color: black;}#sk-container-id-1 pre{padding: 0;}#sk-container-id-1 div.sk-toggleable {background-color: white;}#sk-container-id-1 label.sk-toggleable__label {cursor: pointer;display: block;width: 100%;margin-bottom: 0;padding: 0.3em;box-sizing: border-box;text-align: center;}#sk-container-id-1 label.sk-toggleable__label-arrow:before {content: \"▸\";float: left;margin-right: 0.25em;color: #696969;}#sk-container-id-1 label.sk-toggleable__label-arrow:hover:before {color: black;}#sk-container-id-1 div.sk-estimator:hover label.sk-toggleable__label-arrow:before {color: black;}#sk-container-id-1 div.sk-toggleable__content {max-height: 0;max-width: 0;overflow: hidden;text-align: left;background-color: #f0f8ff;}#sk-container-id-1 div.sk-toggleable__content pre {margin: 0.2em;color: black;border-radius: 0.25em;background-color: #f0f8ff;}#sk-container-id-1 input.sk-toggleable__control:checked~div.sk-toggleable__content {max-height: 200px;max-width: 100%;overflow: auto;}#sk-container-id-1 input.sk-toggleable__control:checked~label.sk-toggleable__label-arrow:before {content: \"▾\";}#sk-container-id-1 div.sk-estimator input.sk-toggleable__control:checked~label.sk-toggleable__label {background-color: #d4ebff;}#sk-container-id-1 div.sk-label input.sk-toggleable__control:checked~label.sk-toggleable__label {background-color: #d4ebff;}#sk-container-id-1 input.sk-hidden--visually {border: 0;clip: rect(1px 1px 1px 1px);clip: rect(1px, 1px, 1px, 1px);height: 1px;margin: -1px;overflow: hidden;padding: 0;position: absolute;width: 1px;}#sk-container-id-1 div.sk-estimator {font-family: monospace;background-color: #f0f8ff;border: 1px dotted black;border-radius: 0.25em;box-sizing: border-box;margin-bottom: 0.5em;}#sk-container-id-1 div.sk-estimator:hover {background-color: #d4ebff;}#sk-container-id-1 div.sk-parallel-item::after {content: \"\";width: 100%;border-bottom: 1px solid gray;flex-grow: 1;}#sk-container-id-1 div.sk-label:hover label.sk-toggleable__label {background-color: #d4ebff;}#sk-container-id-1 div.sk-serial::before {content: \"\";position: absolute;border-left: 1px solid gray;box-sizing: border-box;top: 0;bottom: 0;left: 50%;z-index: 0;}#sk-container-id-1 div.sk-serial {display: flex;flex-direction: column;align-items: center;background-color: white;padding-right: 0.2em;padding-left: 0.2em;position: relative;}#sk-container-id-1 div.sk-item {position: relative;z-index: 1;}#sk-container-id-1 div.sk-parallel {display: flex;align-items: stretch;justify-content: center;background-color: white;position: relative;}#sk-container-id-1 div.sk-item::before, #sk-container-id-1 div.sk-parallel-item::before {content: \"\";position: absolute;border-left: 1px solid gray;box-sizing: border-box;top: 0;bottom: 0;left: 50%;z-index: -1;}#sk-container-id-1 div.sk-parallel-item {display: flex;flex-direction: column;z-index: 1;position: relative;background-color: white;}#sk-container-id-1 div.sk-parallel-item:first-child::after {align-self: flex-end;width: 50%;}#sk-container-id-1 div.sk-parallel-item:last-child::after {align-self: flex-start;width: 50%;}#sk-container-id-1 div.sk-parallel-item:only-child::after {width: 0;}#sk-container-id-1 div.sk-dashed-wrapped {border: 1px dashed gray;margin: 0 0.4em 0.5em 0.4em;box-sizing: border-box;padding-bottom: 0.4em;background-color: white;}#sk-container-id-1 div.sk-label label {font-family: monospace;font-weight: bold;display: inline-block;line-height: 1.2em;}#sk-container-id-1 div.sk-label-container {text-align: center;}#sk-container-id-1 div.sk-container {/* jupyter's `normalize.less` sets `[hidden] { display: none; }` but bootstrap.min.css set `[hidden] { display: none !important; }` so we also need the `!important` here to be able to override the default hidden behavior on the sphinx rendered scikit-learn.org. See: https://github.com/scikit-learn/scikit-learn/issues/21755 */display: inline-block !important;position: relative;}#sk-container-id-1 div.sk-text-repr-fallback {display: none;}</style><div id=\"sk-container-id-1\" class=\"sk-top-container\"><div class=\"sk-text-repr-fallback\"><pre>LinearRegression()</pre><b>In a Jupyter environment, please rerun this cell to show the HTML representation or trust the notebook. <br />On GitHub, the HTML representation is unable to render, please try loading this page with nbviewer.org.</b></div><div class=\"sk-container\" hidden><div class=\"sk-item\"><div class=\"sk-estimator sk-toggleable\"><input class=\"sk-toggleable__control sk-hidden--visually\" id=\"sk-estimator-id-1\" type=\"checkbox\" checked><label for=\"sk-estimator-id-1\" class=\"sk-toggleable__label sk-toggleable__label-arrow\">LinearRegression</label><div class=\"sk-toggleable__content\"><pre>LinearRegression()</pre></div></div></div></div></div>"
      ],
      "text/plain": [
       "LinearRegression()"
      ]
     },
     "execution_count": 22,
     "metadata": {},
     "output_type": "execute_result"
    }
   ],
   "source": [
    "model.fit(x_train,y_train)"
   ]
  },
  {
   "cell_type": "code",
   "execution_count": 26,
   "metadata": {},
   "outputs": [
    {
     "data": {
      "text/plain": [
       "array([ 142.46699789,   78.81325812, -113.32776439,  -14.04382176,\n",
       "         64.62471061,  -52.07920965,   42.72092949,   88.20291402,\n",
       "         26.00493488,  -41.07179159,  142.47539303,  -27.93361053,\n",
       "        -38.38413121,  -75.13431654,   97.57673465,  -20.79329156,\n",
       "        -43.37611038,  166.38663057, -125.12952612,    1.43400998])"
      ]
     },
     "execution_count": 26,
     "metadata": {},
     "output_type": "execute_result"
    }
   ],
   "source": [
    "y_pred = model.predict(x_test)\n",
    "y_pred"
   ]
  },
  {
   "cell_type": "code",
   "execution_count": 37,
   "metadata": {},
   "outputs": [
    {
     "data": {
      "text/plain": [
       "(array([[-5.        , -3.88888889, -2.77777778, -1.66666667, -0.55555556,\n",
       "          0.55555556,  1.66666667,  2.77777778,  3.88888889,  5.        ],\n",
       "        [-5.        , -3.88888889, -2.77777778, -1.66666667, -0.55555556,\n",
       "          0.55555556,  1.66666667,  2.77777778,  3.88888889,  5.        ],\n",
       "        [-5.        , -3.88888889, -2.77777778, -1.66666667, -0.55555556,\n",
       "          0.55555556,  1.66666667,  2.77777778,  3.88888889,  5.        ],\n",
       "        [-5.        , -3.88888889, -2.77777778, -1.66666667, -0.55555556,\n",
       "          0.55555556,  1.66666667,  2.77777778,  3.88888889,  5.        ],\n",
       "        [-5.        , -3.88888889, -2.77777778, -1.66666667, -0.55555556,\n",
       "          0.55555556,  1.66666667,  2.77777778,  3.88888889,  5.        ],\n",
       "        [-5.        , -3.88888889, -2.77777778, -1.66666667, -0.55555556,\n",
       "          0.55555556,  1.66666667,  2.77777778,  3.88888889,  5.        ],\n",
       "        [-5.        , -3.88888889, -2.77777778, -1.66666667, -0.55555556,\n",
       "          0.55555556,  1.66666667,  2.77777778,  3.88888889,  5.        ],\n",
       "        [-5.        , -3.88888889, -2.77777778, -1.66666667, -0.55555556,\n",
       "          0.55555556,  1.66666667,  2.77777778,  3.88888889,  5.        ],\n",
       "        [-5.        , -3.88888889, -2.77777778, -1.66666667, -0.55555556,\n",
       "          0.55555556,  1.66666667,  2.77777778,  3.88888889,  5.        ],\n",
       "        [-5.        , -3.88888889, -2.77777778, -1.66666667, -0.55555556,\n",
       "          0.55555556,  1.66666667,  2.77777778,  3.88888889,  5.        ]]),\n",
       " (10, 10))"
      ]
     },
     "execution_count": 37,
     "metadata": {},
     "output_type": "execute_result"
    }
   ],
   "source": [
    "x = np.linspace(-5, 5, 10)\n",
    "y = np.linspace(-5, 5, 10)\n",
    "xGrid, yGrid = np.meshgrid(y, x)\n",
    "\n",
    "xGrid, yGrid\n",
    "\n",
    "xGrid.shape\n"
   ]
  },
  {
   "cell_type": "markdown",
   "metadata": {},
   "source": [
    "**xGrid.ravel() and yGrid.ravel():**\n",
    "\n",
    "xGrid and yGrid are 2D arrays created by np.meshgrid based on the x and y arrays.\n",
    ".ravel() is used to flatten these 2D arrays, converting them into 1D arrays."
   ]
  },
  {
   "cell_type": "markdown",
   "metadata": {},
   "source": [
    "**Vertical stacking using np.vstack():**\n",
    "\n",
    "--> np.vstack((xGrid.ravel().reshape(1, 100), yGrid.ravel().reshape(1, 100))) vertically stacks the two row vectors.\n",
    "--> The resulting array has a shape of (2, 100) because it stacks two row vectors vertically, forming a 2-row by 100-column array.\n",
    "--> The first row contains the flattened and reshaped x coordinates, and the second row contains the flattened and reshaped y coordinates."
   ]
  },
  {
   "cell_type": "code",
   "execution_count": 32,
   "metadata": {},
   "outputs": [],
   "source": [
    "final = np.vstack((xGrid.ravel().reshape(1,100),yGrid.ravel().reshape(1,100))).T\n",
    "\n",
    "z_final = model.predict(final).reshape(10,10)\n",
    "\n",
    "z = z_final\n"
   ]
  },
  {
   "cell_type": "code",
   "execution_count": 38,
   "metadata": {},
   "outputs": [
    {
     "data": {
      "application/vnd.plotly.v1+json": {
       "config": {
        "plotlyServerURL": "https://plot.ly"
       },
       "data": [
        {
         "hovertemplate": "feature1=%{x}<br>feature2=%{y}<br>target=%{z}<extra></extra>",
         "legendgroup": "",
         "marker": {
          "color": "#636efa",
          "symbol": "circle"
         },
         "mode": "markers",
         "name": "",
         "scene": "scene",
         "showlegend": false,
         "type": "scatter3d",
         "x": [
          0.7502034443430521,
          0.15678459091750419,
          -1.2202831375055363,
          -1.0235914564023947,
          0.08356990923206695,
          0.10039494786996023,
          1.180577171799028,
          -1.0000692370827537,
          -0.22320536587069745,
          -0.11405945835291308,
          2.526787563719746,
          -0.9270033540133237,
          -1.2863394309649416,
          -1.4559607125147236,
          0.28744083809971543,
          1.3657174375719425,
          -1.9951080045046932,
          1.275941276114241,
          0.18724519834948178,
          -0.4335777927958997,
          0.8854573734053478,
          0.6699013999445581,
          0.7730235482109115,
          -0.25969871088149743,
          0.3939046761435166,
          -0.8003456599623402,
          -1.3198315462047927,
          1.3830147941585902,
          0.945387444429263,
          0.9087789328158424,
          0.14086104111692122,
          1.6164167638909805,
          -0.7379540743793963,
          0.1659139061914323,
          -0.19222745622225704,
          2.0369664155529446,
          -1.1868973369451172,
          1.3145912213238642,
          -0.7574979405345122,
          1.4708672529205382,
          -0.6675087356341433,
          -0.8545953313676529,
          -0.8439740513254196,
          -0.9378960930119402,
          -0.6282154257491032,
          0.9561341025576812,
          -1.075180255695744,
          0.4999238453679971,
          -0.3242885378750971,
          0.5772697736913445,
          -0.9834203981034644,
          -0.10303023703291887,
          -0.3690291280247239,
          0.6986297672514892,
          -0.08734174176032676,
          1.8672477864178618,
          0.2190795278931569,
          -0.11688948174663029,
          -0.5031577071478368,
          0.151006880823864,
          0.027985981401240118,
          -1.989078943861905,
          -0.061688484757965865,
          -0.132771060003741,
          -0.6473837988932213,
          -0.5970518011851892,
          -0.31391359976993183,
          -0.21114826866427203,
          -0.4890910507936994,
          1.4567515245522176,
          -0.1630458384213754,
          -0.803319132859519,
          0.1891630577279447,
          -0.34651467551319126,
          -0.5232383735507818,
          0.4171996294890002,
          -0.12761042384351726,
          1.5646601797518178,
          -0.36188945403160916,
          0.7793265165177964,
          -0.7334357489785414,
          0.3658406760762947,
          -0.3519905145593582,
          0.1365986824503793,
          0.3002147985482056,
          -0.391647470322842,
          -0.6260232108759675,
          0.0401359130112715,
          -0.348251064696259,
          -0.045618679100808045,
          0.31688048037927713,
          0.07235448087021548,
          0.2500919417686784,
          0.17597502584934172,
          0.9036378560682008,
          -0.44033832992538713,
          0.004587338596858378,
          1.3342769373418664,
          0.030337403518001863,
          0.4227910390762992
         ],
         "y": [
          0.6403235358244244,
          1.0357433792137638,
          1.5825439131552208,
          0.28457851884632906,
          0.5058824548974019,
          -0.5867660064330115,
          0.7027780347858212,
          -0.02212521218286553,
          1.073075846991094,
          -0.12050012943637828,
          1.0397199208028227,
          0.4969581204204606,
          -0.2977125015093508,
          0.6798642916034342,
          -1.2396760552636468,
          1.4133507635607787,
          2.5245943307278997,
          0.6137354594119228,
          0.7092960197422895,
          0.10088248436496587,
          0.829665758910714,
          -0.8481094111066402,
          -0.9249109763591068,
          -0.47469287555909545,
          -0.5263869600336647,
          1.5013345151985382,
          -1.248983019096809,
          -0.017111655505265038,
          -0.4654045285904345,
          1.411109476487187,
          0.9080235784837147,
          1.6661142785842395,
          -1.3856376201290808,
          -1.1474589667745831,
          0.3731605002410878,
          0.29715820381716124,
          0.1959538454690296,
          0.8130937462022085,
          -0.2295504922733867,
          -0.9869265472643437,
          1.8721067997364589,
          1.6384351752178843,
          0.32528772029900777,
          -0.8748551883336767,
          0.6286674831354655,
          -1.3011070505553026,
          0.4633954527306688,
          -0.1368347112128269,
          -1.3159412137200341,
          -1.8050377264057258,
          -3.0037524427074915,
          -0.40651442831170487,
          0.8187958249867092,
          -0.07799610907171639,
          -0.44381981158023787,
          0.7675887537991758,
          -1.6841004697988486,
          -0.6717598585111504,
          2.394413329172009,
          -1.0817227954139241,
          0.6455528764502496,
          0.02478930013421437,
          -0.03923604562110799,
          0.8982707408746081,
          0.9809051976596578,
          -0.2214655399321566,
          -1.722476610393041,
          2.436640204135361,
          -1.6559937566566296,
          0.4606633303515356,
          1.0250721183421259,
          0.27409703636929367,
          0.7140123816441195,
          -1.1348838329247894,
          -0.9793943521566449,
          -1.0179989133447835,
          -0.4061467009719845,
          0.7024633634822103,
          0.8053577828213534,
          -0.6482579150974532,
          0.3920865457154569,
          -1.7361414598553109,
          0.16917098398321787,
          1.7484829821612866,
          -0.8931041550461503,
          0.12677338726861279,
          1.0749147116325855,
          -1.0625881108956603,
          0.1874835433792478,
          0.9348320965533166,
          -0.6586509769128155,
          -1.317127853044487,
          -0.5875956482635278,
          0.5315984592951837,
          -0.8474220360894362,
          1.6942914278607817,
          -1.0314034328282076,
          1.5578520167054057,
          -0.23714089040100267,
          1.5069999819849715
         ],
         "z": [
          10.262065765219617,
          84.35978249268827,
          35.932238350687776,
          -69.86391649613101,
          8.186747191724479,
          -41.95244795600221,
          69.34949259083487,
          -63.66312698990656,
          89.32072733384422,
          -31.732527867837682,
          340.43478658076407,
          30.73427584675087,
          -152.9856371071754,
          -16.97462928450962,
          -29.323721355423714,
          200.14462212253142,
          122.52737260628005,
          136.60519362736352,
          173.4961518300952,
          10.299115869478289,
          91.02856620579121,
          -95.91682063959874,
          -70.51170763326789,
          -34.194586196175266,
          -52.83982632380687,
          68.835679646451,
          -137.14954785032518,
          92.74766055050493,
          -35.002964462000755,
          298.43370392233976,
          122.52362734007785,
          260.7833582644736,
          -60.15018642066191,
          -32.51448175888752,
          102.7966194421554,
          130.5830066505743,
          -28.167262913847733,
          150.35562757188103,
          -78.07067907342454,
          63.72091174947295,
          96.10123726917416,
          54.75399447914539,
          -46.986954279801765,
          -165.16621021549588,
          10.896041563589755,
          -78.74487913029216,
          -26.513298044543856,
          -44.64090387850224,
          -96.66138295371181,
          -103.64636911295992,
          -362.92609059534794,
          -13.545277510971196,
          17.369370756295403,
          14.006908101908888,
          -12.515149047316761,
          109.27983959002421,
          -147.99244303940125,
          3.1922760165067317,
          82.22852538427331,
          -70.3105717128768,
          36.005851485641124,
          -80.97340056247765,
          -22.36573501680227,
          19.297677732703583,
          16.54950788027158,
          -30.57362456319342,
          -109.27157023627994,
          116.26789004873731,
          -246.00593269481828,
          169.86349956176824,
          38.610352585738916,
          34.77158294202379,
          108.46837109568739,
          -97.83664426659543,
          -112.15220882841487,
          18.318369691280374,
          6.543105609381023,
          152.31059645447147,
          -24.568823044509216,
          113.63958093971902,
          17.03166988823332,
          -154.53840021431847,
          -54.33160607907967,
          176.54327875910406,
          -66.94051741891671,
          -61.31384858151418,
          3.832829074138772,
          -67.85446359687761,
          0.8675707910594408,
          73.92962053566477,
          -81.9959372602129,
          -44.47547597489325,
          17.14417509191034,
          35.547036338471415,
          -83.2482163284965,
          176.17144451540986,
          -93.06180109942744,
          222.9361708977775,
          80.45093131168835,
          125.94589899819518
         ]
        },
        {
         "type": "surface",
         "x": [
          -5,
          -3.888888888888889,
          -2.7777777777777777,
          -1.6666666666666665,
          -0.5555555555555554,
          0.5555555555555554,
          1.666666666666667,
          2.7777777777777786,
          3.8888888888888893,
          5
         ],
         "y": [
          -5,
          -3.888888888888889,
          -2.7777777777777777,
          -1.6666666666666665,
          -0.5555555555555554,
          0.5555555555555554,
          1.666666666666667,
          2.7777777777777786,
          3.8888888888888893,
          5
         ],
         "z": [
          [
           -700.656349463549,
           -629.3127644864987,
           -557.9691795094484,
           -486.6255945323981,
           -415.2820095553478,
           -343.9384245782976,
           -272.59483960124726,
           -201.25125462419692,
           -129.90766964714663,
           -58.56408467009639
          ],
          [
           -616.1424881716192,
           -544.798903194569,
           -473.4553182175187,
           -402.11173324046837,
           -330.7681482634181,
           -259.42456328636786,
           -188.0809783093175,
           -116.73739333226719,
           -45.393808355216905,
           25.949776621833355
          ],
          [
           -531.6286268796896,
           -460.2850419026393,
           -388.941456925589,
           -317.59787194853874,
           -246.25428697148843,
           -174.91070199443814,
           -103.56711701738784,
           -32.22353204033753,
           39.12005293671275,
           110.46363791376301
          ],
          [
           -447.1147655877599,
           -375.7711806107096,
           -304.42759563365934,
           -233.08401065660902,
           -161.7404256795587,
           -90.39684070250847,
           -19.05325572545814,
           52.29032925159217,
           123.63391422864245,
           194.97749920569274
          ],
          [
           -362.6009042958302,
           -291.25731931877993,
           -219.91373434172962,
           -148.57014936467934,
           -77.22656438762904,
           -5.882979410578773,
           65.46060556647154,
           136.80419054352186,
           208.14777552057214,
           279.4913604976224
          ],
          [
           -278.0870430039006,
           -206.74345802685028,
           -135.39987304979994,
           -64.05628807274968,
           7.287296904300614,
           78.63088188135087,
           149.9744668584012,
           221.31805183545154,
           292.6616368125018,
           364.005221789552
          ],
          [
           -193.57318171197082,
           -122.22959673492055,
           -50.886011757870236,
           20.457573219180052,
           91.80115819623033,
           163.14474317328063,
           234.48832815033094,
           305.83191312738126,
           377.1754981044315,
           448.51908308148177
          ],
          [
           -109.05932042004112,
           -37.715735442990834,
           33.62784953405948,
           104.97143451110976,
           176.31501948816006,
           247.65860446521035,
           319.00218944226066,
           390.34577441931094,
           461.6893593963612,
           533.0329443734115
          ],
          [
           -24.545459128111457,
           46.798125848938824,
           118.14171082598914,
           189.48529580303943,
           260.8288807800897,
           332.17246575713995,
           403.5160507341903,
           474.8596357112406,
           546.2032206882909,
           617.5468056653413
          ],
          [
           59.968402163818226,
           131.31198714086852,
           202.65557211791884,
           273.9991570949691,
           345.3427420720194,
           416.68632704906963,
           488.02991202612,
           559.3734970031703,
           630.7170819802207,
           702.0606669572709
          ]
         ]
        }
       ],
       "layout": {
        "legend": {
         "tracegroupgap": 0
        },
        "margin": {
         "t": 60
        },
        "scene": {
         "domain": {
          "x": [
           0,
           1
          ],
          "y": [
           0,
           1
          ]
         },
         "xaxis": {
          "title": {
           "text": "feature1"
          }
         },
         "yaxis": {
          "title": {
           "text": "feature2"
          }
         },
         "zaxis": {
          "title": {
           "text": "target"
          }
         }
        },
        "template": {
         "data": {
          "bar": [
           {
            "error_x": {
             "color": "#2a3f5f"
            },
            "error_y": {
             "color": "#2a3f5f"
            },
            "marker": {
             "line": {
              "color": "#E5ECF6",
              "width": 0.5
             },
             "pattern": {
              "fillmode": "overlay",
              "size": 10,
              "solidity": 0.2
             }
            },
            "type": "bar"
           }
          ],
          "barpolar": [
           {
            "marker": {
             "line": {
              "color": "#E5ECF6",
              "width": 0.5
             },
             "pattern": {
              "fillmode": "overlay",
              "size": 10,
              "solidity": 0.2
             }
            },
            "type": "barpolar"
           }
          ],
          "carpet": [
           {
            "aaxis": {
             "endlinecolor": "#2a3f5f",
             "gridcolor": "white",
             "linecolor": "white",
             "minorgridcolor": "white",
             "startlinecolor": "#2a3f5f"
            },
            "baxis": {
             "endlinecolor": "#2a3f5f",
             "gridcolor": "white",
             "linecolor": "white",
             "minorgridcolor": "white",
             "startlinecolor": "#2a3f5f"
            },
            "type": "carpet"
           }
          ],
          "choropleth": [
           {
            "colorbar": {
             "outlinewidth": 0,
             "ticks": ""
            },
            "type": "choropleth"
           }
          ],
          "contour": [
           {
            "colorbar": {
             "outlinewidth": 0,
             "ticks": ""
            },
            "colorscale": [
             [
              0,
              "#0d0887"
             ],
             [
              0.1111111111111111,
              "#46039f"
             ],
             [
              0.2222222222222222,
              "#7201a8"
             ],
             [
              0.3333333333333333,
              "#9c179e"
             ],
             [
              0.4444444444444444,
              "#bd3786"
             ],
             [
              0.5555555555555556,
              "#d8576b"
             ],
             [
              0.6666666666666666,
              "#ed7953"
             ],
             [
              0.7777777777777778,
              "#fb9f3a"
             ],
             [
              0.8888888888888888,
              "#fdca26"
             ],
             [
              1,
              "#f0f921"
             ]
            ],
            "type": "contour"
           }
          ],
          "contourcarpet": [
           {
            "colorbar": {
             "outlinewidth": 0,
             "ticks": ""
            },
            "type": "contourcarpet"
           }
          ],
          "heatmap": [
           {
            "colorbar": {
             "outlinewidth": 0,
             "ticks": ""
            },
            "colorscale": [
             [
              0,
              "#0d0887"
             ],
             [
              0.1111111111111111,
              "#46039f"
             ],
             [
              0.2222222222222222,
              "#7201a8"
             ],
             [
              0.3333333333333333,
              "#9c179e"
             ],
             [
              0.4444444444444444,
              "#bd3786"
             ],
             [
              0.5555555555555556,
              "#d8576b"
             ],
             [
              0.6666666666666666,
              "#ed7953"
             ],
             [
              0.7777777777777778,
              "#fb9f3a"
             ],
             [
              0.8888888888888888,
              "#fdca26"
             ],
             [
              1,
              "#f0f921"
             ]
            ],
            "type": "heatmap"
           }
          ],
          "heatmapgl": [
           {
            "colorbar": {
             "outlinewidth": 0,
             "ticks": ""
            },
            "colorscale": [
             [
              0,
              "#0d0887"
             ],
             [
              0.1111111111111111,
              "#46039f"
             ],
             [
              0.2222222222222222,
              "#7201a8"
             ],
             [
              0.3333333333333333,
              "#9c179e"
             ],
             [
              0.4444444444444444,
              "#bd3786"
             ],
             [
              0.5555555555555556,
              "#d8576b"
             ],
             [
              0.6666666666666666,
              "#ed7953"
             ],
             [
              0.7777777777777778,
              "#fb9f3a"
             ],
             [
              0.8888888888888888,
              "#fdca26"
             ],
             [
              1,
              "#f0f921"
             ]
            ],
            "type": "heatmapgl"
           }
          ],
          "histogram": [
           {
            "marker": {
             "pattern": {
              "fillmode": "overlay",
              "size": 10,
              "solidity": 0.2
             }
            },
            "type": "histogram"
           }
          ],
          "histogram2d": [
           {
            "colorbar": {
             "outlinewidth": 0,
             "ticks": ""
            },
            "colorscale": [
             [
              0,
              "#0d0887"
             ],
             [
              0.1111111111111111,
              "#46039f"
             ],
             [
              0.2222222222222222,
              "#7201a8"
             ],
             [
              0.3333333333333333,
              "#9c179e"
             ],
             [
              0.4444444444444444,
              "#bd3786"
             ],
             [
              0.5555555555555556,
              "#d8576b"
             ],
             [
              0.6666666666666666,
              "#ed7953"
             ],
             [
              0.7777777777777778,
              "#fb9f3a"
             ],
             [
              0.8888888888888888,
              "#fdca26"
             ],
             [
              1,
              "#f0f921"
             ]
            ],
            "type": "histogram2d"
           }
          ],
          "histogram2dcontour": [
           {
            "colorbar": {
             "outlinewidth": 0,
             "ticks": ""
            },
            "colorscale": [
             [
              0,
              "#0d0887"
             ],
             [
              0.1111111111111111,
              "#46039f"
             ],
             [
              0.2222222222222222,
              "#7201a8"
             ],
             [
              0.3333333333333333,
              "#9c179e"
             ],
             [
              0.4444444444444444,
              "#bd3786"
             ],
             [
              0.5555555555555556,
              "#d8576b"
             ],
             [
              0.6666666666666666,
              "#ed7953"
             ],
             [
              0.7777777777777778,
              "#fb9f3a"
             ],
             [
              0.8888888888888888,
              "#fdca26"
             ],
             [
              1,
              "#f0f921"
             ]
            ],
            "type": "histogram2dcontour"
           }
          ],
          "mesh3d": [
           {
            "colorbar": {
             "outlinewidth": 0,
             "ticks": ""
            },
            "type": "mesh3d"
           }
          ],
          "parcoords": [
           {
            "line": {
             "colorbar": {
              "outlinewidth": 0,
              "ticks": ""
             }
            },
            "type": "parcoords"
           }
          ],
          "pie": [
           {
            "automargin": true,
            "type": "pie"
           }
          ],
          "scatter": [
           {
            "fillpattern": {
             "fillmode": "overlay",
             "size": 10,
             "solidity": 0.2
            },
            "type": "scatter"
           }
          ],
          "scatter3d": [
           {
            "line": {
             "colorbar": {
              "outlinewidth": 0,
              "ticks": ""
             }
            },
            "marker": {
             "colorbar": {
              "outlinewidth": 0,
              "ticks": ""
             }
            },
            "type": "scatter3d"
           }
          ],
          "scattercarpet": [
           {
            "marker": {
             "colorbar": {
              "outlinewidth": 0,
              "ticks": ""
             }
            },
            "type": "scattercarpet"
           }
          ],
          "scattergeo": [
           {
            "marker": {
             "colorbar": {
              "outlinewidth": 0,
              "ticks": ""
             }
            },
            "type": "scattergeo"
           }
          ],
          "scattergl": [
           {
            "marker": {
             "colorbar": {
              "outlinewidth": 0,
              "ticks": ""
             }
            },
            "type": "scattergl"
           }
          ],
          "scattermapbox": [
           {
            "marker": {
             "colorbar": {
              "outlinewidth": 0,
              "ticks": ""
             }
            },
            "type": "scattermapbox"
           }
          ],
          "scatterpolar": [
           {
            "marker": {
             "colorbar": {
              "outlinewidth": 0,
              "ticks": ""
             }
            },
            "type": "scatterpolar"
           }
          ],
          "scatterpolargl": [
           {
            "marker": {
             "colorbar": {
              "outlinewidth": 0,
              "ticks": ""
             }
            },
            "type": "scatterpolargl"
           }
          ],
          "scatterternary": [
           {
            "marker": {
             "colorbar": {
              "outlinewidth": 0,
              "ticks": ""
             }
            },
            "type": "scatterternary"
           }
          ],
          "surface": [
           {
            "colorbar": {
             "outlinewidth": 0,
             "ticks": ""
            },
            "colorscale": [
             [
              0,
              "#0d0887"
             ],
             [
              0.1111111111111111,
              "#46039f"
             ],
             [
              0.2222222222222222,
              "#7201a8"
             ],
             [
              0.3333333333333333,
              "#9c179e"
             ],
             [
              0.4444444444444444,
              "#bd3786"
             ],
             [
              0.5555555555555556,
              "#d8576b"
             ],
             [
              0.6666666666666666,
              "#ed7953"
             ],
             [
              0.7777777777777778,
              "#fb9f3a"
             ],
             [
              0.8888888888888888,
              "#fdca26"
             ],
             [
              1,
              "#f0f921"
             ]
            ],
            "type": "surface"
           }
          ],
          "table": [
           {
            "cells": {
             "fill": {
              "color": "#EBF0F8"
             },
             "line": {
              "color": "white"
             }
            },
            "header": {
             "fill": {
              "color": "#C8D4E3"
             },
             "line": {
              "color": "white"
             }
            },
            "type": "table"
           }
          ]
         },
         "layout": {
          "annotationdefaults": {
           "arrowcolor": "#2a3f5f",
           "arrowhead": 0,
           "arrowwidth": 1
          },
          "autotypenumbers": "strict",
          "coloraxis": {
           "colorbar": {
            "outlinewidth": 0,
            "ticks": ""
           }
          },
          "colorscale": {
           "diverging": [
            [
             0,
             "#8e0152"
            ],
            [
             0.1,
             "#c51b7d"
            ],
            [
             0.2,
             "#de77ae"
            ],
            [
             0.3,
             "#f1b6da"
            ],
            [
             0.4,
             "#fde0ef"
            ],
            [
             0.5,
             "#f7f7f7"
            ],
            [
             0.6,
             "#e6f5d0"
            ],
            [
             0.7,
             "#b8e186"
            ],
            [
             0.8,
             "#7fbc41"
            ],
            [
             0.9,
             "#4d9221"
            ],
            [
             1,
             "#276419"
            ]
           ],
           "sequential": [
            [
             0,
             "#0d0887"
            ],
            [
             0.1111111111111111,
             "#46039f"
            ],
            [
             0.2222222222222222,
             "#7201a8"
            ],
            [
             0.3333333333333333,
             "#9c179e"
            ],
            [
             0.4444444444444444,
             "#bd3786"
            ],
            [
             0.5555555555555556,
             "#d8576b"
            ],
            [
             0.6666666666666666,
             "#ed7953"
            ],
            [
             0.7777777777777778,
             "#fb9f3a"
            ],
            [
             0.8888888888888888,
             "#fdca26"
            ],
            [
             1,
             "#f0f921"
            ]
           ],
           "sequentialminus": [
            [
             0,
             "#0d0887"
            ],
            [
             0.1111111111111111,
             "#46039f"
            ],
            [
             0.2222222222222222,
             "#7201a8"
            ],
            [
             0.3333333333333333,
             "#9c179e"
            ],
            [
             0.4444444444444444,
             "#bd3786"
            ],
            [
             0.5555555555555556,
             "#d8576b"
            ],
            [
             0.6666666666666666,
             "#ed7953"
            ],
            [
             0.7777777777777778,
             "#fb9f3a"
            ],
            [
             0.8888888888888888,
             "#fdca26"
            ],
            [
             1,
             "#f0f921"
            ]
           ]
          },
          "colorway": [
           "#636efa",
           "#EF553B",
           "#00cc96",
           "#ab63fa",
           "#FFA15A",
           "#19d3f3",
           "#FF6692",
           "#B6E880",
           "#FF97FF",
           "#FECB52"
          ],
          "font": {
           "color": "#2a3f5f"
          },
          "geo": {
           "bgcolor": "white",
           "lakecolor": "white",
           "landcolor": "#E5ECF6",
           "showlakes": true,
           "showland": true,
           "subunitcolor": "white"
          },
          "hoverlabel": {
           "align": "left"
          },
          "hovermode": "closest",
          "mapbox": {
           "style": "light"
          },
          "paper_bgcolor": "white",
          "plot_bgcolor": "#E5ECF6",
          "polar": {
           "angularaxis": {
            "gridcolor": "white",
            "linecolor": "white",
            "ticks": ""
           },
           "bgcolor": "#E5ECF6",
           "radialaxis": {
            "gridcolor": "white",
            "linecolor": "white",
            "ticks": ""
           }
          },
          "scene": {
           "xaxis": {
            "backgroundcolor": "#E5ECF6",
            "gridcolor": "white",
            "gridwidth": 2,
            "linecolor": "white",
            "showbackground": true,
            "ticks": "",
            "zerolinecolor": "white"
           },
           "yaxis": {
            "backgroundcolor": "#E5ECF6",
            "gridcolor": "white",
            "gridwidth": 2,
            "linecolor": "white",
            "showbackground": true,
            "ticks": "",
            "zerolinecolor": "white"
           },
           "zaxis": {
            "backgroundcolor": "#E5ECF6",
            "gridcolor": "white",
            "gridwidth": 2,
            "linecolor": "white",
            "showbackground": true,
            "ticks": "",
            "zerolinecolor": "white"
           }
          },
          "shapedefaults": {
           "line": {
            "color": "#2a3f5f"
           }
          },
          "ternary": {
           "aaxis": {
            "gridcolor": "white",
            "linecolor": "white",
            "ticks": ""
           },
           "baxis": {
            "gridcolor": "white",
            "linecolor": "white",
            "ticks": ""
           },
           "bgcolor": "#E5ECF6",
           "caxis": {
            "gridcolor": "white",
            "linecolor": "white",
            "ticks": ""
           }
          },
          "title": {
           "x": 0.05
          },
          "xaxis": {
           "automargin": true,
           "gridcolor": "white",
           "linecolor": "white",
           "ticks": "",
           "title": {
            "standoff": 15
           },
           "zerolinecolor": "white",
           "zerolinewidth": 2
          },
          "yaxis": {
           "automargin": true,
           "gridcolor": "white",
           "linecolor": "white",
           "ticks": "",
           "title": {
            "standoff": 15
           },
           "zerolinecolor": "white",
           "zerolinewidth": 2
          }
         }
        }
       }
      }
     },
     "metadata": {},
     "output_type": "display_data"
    }
   ],
   "source": [
    "fig = px.scatter_3d(df, x='feature1', y='feature2', z='target')\n",
    "\n",
    "fig.add_trace(go.Surface(x = x, y = y, z =z ))\n",
    "\n",
    "fig.show()"
   ]
  },
  {
   "cell_type": "code",
   "execution_count": 39,
   "metadata": {},
   "outputs": [
    {
     "data": {
      "text/plain": [
       "array([64.20922648, 76.06247516])"
      ]
     },
     "execution_count": 39,
     "metadata": {},
     "output_type": "execute_result"
    }
   ],
   "source": [
    "model.coef_"
   ]
  },
  {
   "cell_type": "code",
   "execution_count": 40,
   "metadata": {},
   "outputs": [
    {
     "data": {
      "text/plain": [
       "0.7021587468609205"
      ]
     },
     "execution_count": 40,
     "metadata": {},
     "output_type": "execute_result"
    }
   ],
   "source": [
    "model.intercept_"
   ]
  }
 ],
 "metadata": {
  "kernelspec": {
   "display_name": "Python 3",
   "language": "python",
   "name": "python3"
  },
  "language_info": {
   "codemirror_mode": {
    "name": "ipython",
    "version": 3
   },
   "file_extension": ".py",
   "mimetype": "text/x-python",
   "name": "python",
   "nbconvert_exporter": "python",
   "pygments_lexer": "ipython3",
   "version": "3.11.0"
  }
 },
 "nbformat": 4,
 "nbformat_minor": 2
}
